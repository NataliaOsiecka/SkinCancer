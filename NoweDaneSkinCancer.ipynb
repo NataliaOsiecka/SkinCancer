{
  "cells": [
    {
      "cell_type": "markdown",
      "metadata": {
        "id": "view-in-github",
        "colab_type": "text"
      },
      "source": [
        "<a href=\"https://colab.research.google.com/github/NataliaOsiecka/SkinCancer/blob/main/NoweDaneSkinCancer.ipynb\" target=\"_parent\"><img src=\"https://colab.research.google.com/assets/colab-badge.svg\" alt=\"Open In Colab\"/></a>"
      ]
    },
    {
      "cell_type": "markdown",
      "metadata": {
        "id": "-O-cwCw59jSm"
      },
      "source": [
        "1. Loading data and libraries"
      ]
    },
    {
      "cell_type": "code",
      "source": [
        "from google.colab import drive\n",
        "drive.mount('/content/drive')"
      ],
      "metadata": {
        "colab": {
          "base_uri": "https://localhost:8080/"
        },
        "id": "W3NAZpU61YUO",
        "outputId": "95fa1d6c-6878-4415-95b9-8cfd21c056c5"
      },
      "execution_count": 1,
      "outputs": [
        {
          "output_type": "stream",
          "name": "stdout",
          "text": [
            "Mounted at /content/drive\n"
          ]
        }
      ]
    },
    {
      "cell_type": "code",
      "source": [
        "!pip install tensorflow==2.4"
      ],
      "metadata": {
        "colab": {
          "base_uri": "https://localhost:8080/"
        },
        "id": "c86UBQsIkXd0",
        "outputId": "517afda2-e9b4-495f-84ca-59f0edb9553c"
      },
      "execution_count": 2,
      "outputs": [
        {
          "output_type": "stream",
          "name": "stdout",
          "text": [
            "Looking in indexes: https://pypi.org/simple, https://us-python.pkg.dev/colab-wheels/public/simple/\n",
            "Collecting tensorflow==2.4\n",
            "  Downloading tensorflow-2.4.0-cp38-cp38-manylinux2010_x86_64.whl (394.8 MB)\n",
            "\u001b[2K     \u001b[90m━━━━━━━━━━━━━━━━━━━━━━━━━━━━━━━━━━━━━━━\u001b[0m \u001b[32m394.8/394.8 MB\u001b[0m \u001b[31m3.5 MB/s\u001b[0m eta \u001b[36m0:00:00\u001b[0m\n",
            "\u001b[?25hCollecting termcolor~=1.1.0\n",
            "  Downloading termcolor-1.1.0.tar.gz (3.9 kB)\n",
            "  Preparing metadata (setup.py) ... \u001b[?25l\u001b[?25hdone\n",
            "Requirement already satisfied: astunparse~=1.6.3 in /usr/local/lib/python3.8/dist-packages (from tensorflow==2.4) (1.6.3)\n",
            "Collecting absl-py~=0.10\n",
            "  Downloading absl_py-0.15.0-py3-none-any.whl (132 kB)\n",
            "\u001b[2K     \u001b[90m━━━━━━━━━━━━━━━━━━━━━━━━━━━━━━━━━━━━━━\u001b[0m \u001b[32m132.0/132.0 KB\u001b[0m \u001b[31m18.2 MB/s\u001b[0m eta \u001b[36m0:00:00\u001b[0m\n",
            "\u001b[?25hRequirement already satisfied: keras-preprocessing~=1.1.2 in /usr/local/lib/python3.8/dist-packages (from tensorflow==2.4) (1.1.2)\n",
            "Collecting typing-extensions~=3.7.4\n",
            "  Downloading typing_extensions-3.7.4.3-py3-none-any.whl (22 kB)\n",
            "Requirement already satisfied: google-pasta~=0.2 in /usr/local/lib/python3.8/dist-packages (from tensorflow==2.4) (0.2.0)\n",
            "Collecting wrapt~=1.12.1\n",
            "  Downloading wrapt-1.12.1.tar.gz (27 kB)\n",
            "  Preparing metadata (setup.py) ... \u001b[?25l\u001b[?25hdone\n",
            "Requirement already satisfied: opt-einsum~=3.3.0 in /usr/local/lib/python3.8/dist-packages (from tensorflow==2.4) (3.3.0)\n",
            "Requirement already satisfied: wheel~=0.35 in /usr/local/lib/python3.8/dist-packages (from tensorflow==2.4) (0.38.4)\n",
            "Collecting grpcio~=1.32.0\n",
            "  Downloading grpcio-1.32.0-cp38-cp38-manylinux2014_x86_64.whl (3.8 MB)\n",
            "\u001b[2K     \u001b[90m━━━━━━━━━━━━━━━━━━━━━━━━━━━━━━━━━━━━━━━━\u001b[0m \u001b[32m3.8/3.8 MB\u001b[0m \u001b[31m81.0 MB/s\u001b[0m eta \u001b[36m0:00:00\u001b[0m\n",
            "\u001b[?25hRequirement already satisfied: protobuf>=3.9.2 in /usr/local/lib/python3.8/dist-packages (from tensorflow==2.4) (3.19.6)\n",
            "Requirement already satisfied: flatbuffers~=1.12.0 in /usr/local/lib/python3.8/dist-packages (from tensorflow==2.4) (1.12)\n",
            "Requirement already satisfied: tensorboard~=2.4 in /usr/local/lib/python3.8/dist-packages (from tensorflow==2.4) (2.9.1)\n",
            "Collecting gast==0.3.3\n",
            "  Downloading gast-0.3.3-py2.py3-none-any.whl (9.7 kB)\n",
            "Requirement already satisfied: six~=1.15.0 in /usr/local/lib/python3.8/dist-packages (from tensorflow==2.4) (1.15.0)\n",
            "Collecting h5py~=2.10.0\n",
            "  Downloading h5py-2.10.0-cp38-cp38-manylinux1_x86_64.whl (2.9 MB)\n",
            "\u001b[2K     \u001b[90m━━━━━━━━━━━━━━━━━━━━━━━━━━━━━━━━━━━━━━━━\u001b[0m \u001b[32m2.9/2.9 MB\u001b[0m \u001b[31m71.0 MB/s\u001b[0m eta \u001b[36m0:00:00\u001b[0m\n",
            "\u001b[?25hCollecting tensorflow-estimator<2.5.0,>=2.4.0rc0\n",
            "  Downloading tensorflow_estimator-2.4.0-py2.py3-none-any.whl (462 kB)\n",
            "\u001b[2K     \u001b[90m━━━━━━━━━━━━━━━━━━━━━━━━━━━━━━━━━━━━━━\u001b[0m \u001b[32m462.0/462.0 KB\u001b[0m \u001b[31m47.0 MB/s\u001b[0m eta \u001b[36m0:00:00\u001b[0m\n",
            "\u001b[?25hCollecting numpy~=1.19.2\n",
            "  Downloading numpy-1.19.5-cp38-cp38-manylinux2010_x86_64.whl (14.9 MB)\n",
            "\u001b[2K     \u001b[90m━━━━━━━━━━━━━━━━━━━━━━━━━━━━━━━━━━━━━━━━\u001b[0m \u001b[32m14.9/14.9 MB\u001b[0m \u001b[31m77.7 MB/s\u001b[0m eta \u001b[36m0:00:00\u001b[0m\n",
            "\u001b[?25hRequirement already satisfied: google-auth<3,>=1.6.3 in /usr/local/lib/python3.8/dist-packages (from tensorboard~=2.4->tensorflow==2.4) (2.15.0)\n",
            "Requirement already satisfied: setuptools>=41.0.0 in /usr/local/lib/python3.8/dist-packages (from tensorboard~=2.4->tensorflow==2.4) (57.4.0)\n",
            "Requirement already satisfied: google-auth-oauthlib<0.5,>=0.4.1 in /usr/local/lib/python3.8/dist-packages (from tensorboard~=2.4->tensorflow==2.4) (0.4.6)\n",
            "Requirement already satisfied: markdown>=2.6.8 in /usr/local/lib/python3.8/dist-packages (from tensorboard~=2.4->tensorflow==2.4) (3.4.1)\n",
            "Requirement already satisfied: werkzeug>=1.0.1 in /usr/local/lib/python3.8/dist-packages (from tensorboard~=2.4->tensorflow==2.4) (1.0.1)\n",
            "Requirement already satisfied: tensorboard-data-server<0.7.0,>=0.6.0 in /usr/local/lib/python3.8/dist-packages (from tensorboard~=2.4->tensorflow==2.4) (0.6.1)\n",
            "Requirement already satisfied: requests<3,>=2.21.0 in /usr/local/lib/python3.8/dist-packages (from tensorboard~=2.4->tensorflow==2.4) (2.25.1)\n",
            "Requirement already satisfied: tensorboard-plugin-wit>=1.6.0 in /usr/local/lib/python3.8/dist-packages (from tensorboard~=2.4->tensorflow==2.4) (1.8.1)\n",
            "Requirement already satisfied: pyasn1-modules>=0.2.1 in /usr/local/lib/python3.8/dist-packages (from google-auth<3,>=1.6.3->tensorboard~=2.4->tensorflow==2.4) (0.2.8)\n",
            "Requirement already satisfied: cachetools<6.0,>=2.0.0 in /usr/local/lib/python3.8/dist-packages (from google-auth<3,>=1.6.3->tensorboard~=2.4->tensorflow==2.4) (5.2.0)\n",
            "Requirement already satisfied: rsa<5,>=3.1.4 in /usr/local/lib/python3.8/dist-packages (from google-auth<3,>=1.6.3->tensorboard~=2.4->tensorflow==2.4) (4.9)\n",
            "Requirement already satisfied: requests-oauthlib>=0.7.0 in /usr/local/lib/python3.8/dist-packages (from google-auth-oauthlib<0.5,>=0.4.1->tensorboard~=2.4->tensorflow==2.4) (1.3.1)\n",
            "Requirement already satisfied: importlib-metadata>=4.4 in /usr/local/lib/python3.8/dist-packages (from markdown>=2.6.8->tensorboard~=2.4->tensorflow==2.4) (6.0.0)\n",
            "Requirement already satisfied: idna<3,>=2.5 in /usr/local/lib/python3.8/dist-packages (from requests<3,>=2.21.0->tensorboard~=2.4->tensorflow==2.4) (2.10)\n",
            "Requirement already satisfied: certifi>=2017.4.17 in /usr/local/lib/python3.8/dist-packages (from requests<3,>=2.21.0->tensorboard~=2.4->tensorflow==2.4) (2022.12.7)\n",
            "Requirement already satisfied: urllib3<1.27,>=1.21.1 in /usr/local/lib/python3.8/dist-packages (from requests<3,>=2.21.0->tensorboard~=2.4->tensorflow==2.4) (1.24.3)\n",
            "Requirement already satisfied: chardet<5,>=3.0.2 in /usr/local/lib/python3.8/dist-packages (from requests<3,>=2.21.0->tensorboard~=2.4->tensorflow==2.4) (4.0.0)\n",
            "Requirement already satisfied: zipp>=0.5 in /usr/local/lib/python3.8/dist-packages (from importlib-metadata>=4.4->markdown>=2.6.8->tensorboard~=2.4->tensorflow==2.4) (3.11.0)\n",
            "Requirement already satisfied: pyasn1<0.5.0,>=0.4.6 in /usr/local/lib/python3.8/dist-packages (from pyasn1-modules>=0.2.1->google-auth<3,>=1.6.3->tensorboard~=2.4->tensorflow==2.4) (0.4.8)\n",
            "Requirement already satisfied: oauthlib>=3.0.0 in /usr/local/lib/python3.8/dist-packages (from requests-oauthlib>=0.7.0->google-auth-oauthlib<0.5,>=0.4.1->tensorboard~=2.4->tensorflow==2.4) (3.2.2)\n",
            "Building wheels for collected packages: termcolor, wrapt\n",
            "  Building wheel for termcolor (setup.py) ... \u001b[?25l\u001b[?25hdone\n",
            "  Created wheel for termcolor: filename=termcolor-1.1.0-py3-none-any.whl size=4849 sha256=87c234ef3804a2d1cf8c5af910367ce16e1701c173e86d461fbaf041369cb828\n",
            "  Stored in directory: /root/.cache/pip/wheels/a0/16/9c/5473df82468f958445479c59e784896fa24f4a5fc024b0f501\n",
            "  Building wheel for wrapt (setup.py) ... \u001b[?25l\u001b[?25hdone\n",
            "  Created wheel for wrapt: filename=wrapt-1.12.1-cp38-cp38-linux_x86_64.whl size=72361 sha256=aa4a48325c1c1021b45fc631ad4498bfef78e61ee5eb02e5e90cbf9b709aaece\n",
            "  Stored in directory: /root/.cache/pip/wheels/5f/fd/9e/b6cf5890494cb8ef0b5eaff72e5d55a70fb56316007d6dfe73\n",
            "Successfully built termcolor wrapt\n",
            "Installing collected packages: wrapt, typing-extensions, termcolor, tensorflow-estimator, numpy, grpcio, gast, absl-py, h5py, tensorflow\n",
            "  Attempting uninstall: wrapt\n",
            "    Found existing installation: wrapt 1.14.1\n",
            "    Uninstalling wrapt-1.14.1:\n",
            "      Successfully uninstalled wrapt-1.14.1\n",
            "  Attempting uninstall: typing-extensions\n",
            "    Found existing installation: typing_extensions 4.4.0\n",
            "    Uninstalling typing_extensions-4.4.0:\n",
            "      Successfully uninstalled typing_extensions-4.4.0\n",
            "  Attempting uninstall: termcolor\n",
            "    Found existing installation: termcolor 2.2.0\n",
            "    Uninstalling termcolor-2.2.0:\n",
            "      Successfully uninstalled termcolor-2.2.0\n",
            "  Attempting uninstall: tensorflow-estimator\n",
            "    Found existing installation: tensorflow-estimator 2.9.0\n",
            "    Uninstalling tensorflow-estimator-2.9.0:\n",
            "      Successfully uninstalled tensorflow-estimator-2.9.0\n",
            "  Attempting uninstall: numpy\n",
            "    Found existing installation: numpy 1.21.6\n",
            "    Uninstalling numpy-1.21.6:\n",
            "      Successfully uninstalled numpy-1.21.6\n",
            "  Attempting uninstall: grpcio\n",
            "    Found existing installation: grpcio 1.51.1\n",
            "    Uninstalling grpcio-1.51.1:\n",
            "      Successfully uninstalled grpcio-1.51.1\n",
            "  Attempting uninstall: gast\n",
            "    Found existing installation: gast 0.4.0\n",
            "    Uninstalling gast-0.4.0:\n",
            "      Successfully uninstalled gast-0.4.0\n",
            "  Attempting uninstall: absl-py\n",
            "    Found existing installation: absl-py 1.3.0\n",
            "    Uninstalling absl-py-1.3.0:\n",
            "      Successfully uninstalled absl-py-1.3.0\n",
            "  Attempting uninstall: h5py\n",
            "    Found existing installation: h5py 3.1.0\n",
            "    Uninstalling h5py-3.1.0:\n",
            "      Successfully uninstalled h5py-3.1.0\n",
            "  Attempting uninstall: tensorflow\n",
            "    Found existing installation: tensorflow 2.9.2\n",
            "    Uninstalling tensorflow-2.9.2:\n",
            "      Successfully uninstalled tensorflow-2.9.2\n",
            "\u001b[31mERROR: pip's dependency resolver does not currently take into account all the packages that are installed. This behaviour is the source of the following dependency conflicts.\n",
            "xarray 2022.12.0 requires numpy>=1.20, but you have numpy 1.19.5 which is incompatible.\n",
            "xarray-einstats 0.4.0 requires numpy>=1.20, but you have numpy 1.19.5 which is incompatible.\n",
            "pydantic 1.10.4 requires typing-extensions>=4.2.0, but you have typing-extensions 3.7.4.3 which is incompatible.\n",
            "jaxlib 0.3.25+cuda11.cudnn805 requires numpy>=1.20, but you have numpy 1.19.5 which is incompatible.\n",
            "jax 0.3.25 requires numpy>=1.20, but you have numpy 1.19.5 which is incompatible.\n",
            "grpcio-status 1.48.2 requires grpcio>=1.48.2, but you have grpcio 1.32.0 which is incompatible.\n",
            "google-cloud-bigquery 3.4.1 requires grpcio<2.0dev,>=1.47.0, but you have grpcio 1.32.0 which is incompatible.\n",
            "cmdstanpy 1.0.8 requires numpy>=1.21, but you have numpy 1.19.5 which is incompatible.\u001b[0m\u001b[31m\n",
            "\u001b[0mSuccessfully installed absl-py-0.15.0 gast-0.3.3 grpcio-1.32.0 h5py-2.10.0 numpy-1.19.5 tensorflow-2.4.0 tensorflow-estimator-2.4.0 termcolor-1.1.0 typing-extensions-3.7.4.3 wrapt-1.12.1\n"
          ]
        }
      ]
    },
    {
      "cell_type": "code",
      "source": [
        "import matplotlib.pyplot as plt\n",
        "import seaborn as sns\n",
        "import numpy as np\n",
        "import pandas as pd\n",
        "import cv2\n",
        "import glob\n",
        "import math\n",
        "import os\n",
        "import random\n",
        "import shutil\n",
        "import tensorflow as tf\n",
        "#from sklearn.utils import class_weight \n",
        "from collections import Counter\n",
        "from imblearn.over_sampling import RandomOverSampler\n",
        "from tensorflow.keras.utils import to_categorical\n",
        "from sklearn.model_selection import train_test_split\n",
        "from sklearn.metrics import confusion_matrix , classification_report\n",
        "from tensorflow.keras.callbacks import ReduceLROnPlateau\n",
        "from tensorflow.keras import regularizers\n",
        "from tensorflow.keras.callbacks import ModelCheckpoint, EarlyStopping\n",
        "from tensorflow.keras.models import Sequential\n",
        "from tensorflow.keras.layers import Conv2D, MaxPool2D, Flatten, Dense, BatchNormalization, Dropout\n",
        "from tensorflow.keras.preprocessing.image import ImageDataGenerator\n",
        "from tensorflow.keras.optimizers import Adam\n",
        "from google.colab.patches import cv2_imshow"
      ],
      "metadata": {
        "id": "tH_bFr1-e1y4"
      },
      "execution_count": 39,
      "outputs": []
    },
    {
      "cell_type": "code",
      "source": [
        "filePath = '/content/drive/MyDrive/rożne/hmnist_28_28_RGB.csv'\n",
        "dataSet = pd.read_csv(filePath)\n",
        "dataSet.head()"
      ],
      "metadata": {
        "colab": {
          "base_uri": "https://localhost:8080/",
          "height": 299
        },
        "id": "GpqmrLFKfeN5",
        "outputId": "76d37764-5baf-4974-9c39-016b1bd846f2"
      },
      "execution_count": 4,
      "outputs": [
        {
          "output_type": "execute_result",
          "data": {
            "text/plain": [
              "   pixel0000  pixel0001  pixel0002  pixel0003  pixel0004  pixel0005  \\\n",
              "0        192        153        193        195        155        192   \n",
              "1         25         14         30         68         48         75   \n",
              "2        192        138        153        200        145        163   \n",
              "3         38         19         30         95         59         72   \n",
              "4        158        113        139        194        144        174   \n",
              "\n",
              "   pixel0006  pixel0007  pixel0008  pixel0009  ...  pixel2343  pixel2344  \\\n",
              "0        197        154        185        202  ...        173        124   \n",
              "1        123         93        126        158  ...         60         39   \n",
              "2        201        142        160        206  ...        167        129   \n",
              "3        143        103        119        171  ...         44         26   \n",
              "4        215        162        191        225  ...        209        166   \n",
              "\n",
              "   pixel2345  pixel2346  pixel2347  pixel2348  pixel2349  pixel2350  \\\n",
              "0        138        183        147        166        185        154   \n",
              "1         55         25         14         28         25         14   \n",
              "2        143        159        124        142        136        104   \n",
              "3         36         25         12         17         25         12   \n",
              "4        185        172        135        149        109         78   \n",
              "\n",
              "   pixel2351  label  \n",
              "0        177      2  \n",
              "1         27      2  \n",
              "2        117      2  \n",
              "3         15      2  \n",
              "4         92      2  \n",
              "\n",
              "[5 rows x 2353 columns]"
            ],
            "text/html": [
              "\n",
              "  <div id=\"df-1fb8ae5c-88fe-478a-a633-0842179c1120\">\n",
              "    <div class=\"colab-df-container\">\n",
              "      <div>\n",
              "<style scoped>\n",
              "    .dataframe tbody tr th:only-of-type {\n",
              "        vertical-align: middle;\n",
              "    }\n",
              "\n",
              "    .dataframe tbody tr th {\n",
              "        vertical-align: top;\n",
              "    }\n",
              "\n",
              "    .dataframe thead th {\n",
              "        text-align: right;\n",
              "    }\n",
              "</style>\n",
              "<table border=\"1\" class=\"dataframe\">\n",
              "  <thead>\n",
              "    <tr style=\"text-align: right;\">\n",
              "      <th></th>\n",
              "      <th>pixel0000</th>\n",
              "      <th>pixel0001</th>\n",
              "      <th>pixel0002</th>\n",
              "      <th>pixel0003</th>\n",
              "      <th>pixel0004</th>\n",
              "      <th>pixel0005</th>\n",
              "      <th>pixel0006</th>\n",
              "      <th>pixel0007</th>\n",
              "      <th>pixel0008</th>\n",
              "      <th>pixel0009</th>\n",
              "      <th>...</th>\n",
              "      <th>pixel2343</th>\n",
              "      <th>pixel2344</th>\n",
              "      <th>pixel2345</th>\n",
              "      <th>pixel2346</th>\n",
              "      <th>pixel2347</th>\n",
              "      <th>pixel2348</th>\n",
              "      <th>pixel2349</th>\n",
              "      <th>pixel2350</th>\n",
              "      <th>pixel2351</th>\n",
              "      <th>label</th>\n",
              "    </tr>\n",
              "  </thead>\n",
              "  <tbody>\n",
              "    <tr>\n",
              "      <th>0</th>\n",
              "      <td>192</td>\n",
              "      <td>153</td>\n",
              "      <td>193</td>\n",
              "      <td>195</td>\n",
              "      <td>155</td>\n",
              "      <td>192</td>\n",
              "      <td>197</td>\n",
              "      <td>154</td>\n",
              "      <td>185</td>\n",
              "      <td>202</td>\n",
              "      <td>...</td>\n",
              "      <td>173</td>\n",
              "      <td>124</td>\n",
              "      <td>138</td>\n",
              "      <td>183</td>\n",
              "      <td>147</td>\n",
              "      <td>166</td>\n",
              "      <td>185</td>\n",
              "      <td>154</td>\n",
              "      <td>177</td>\n",
              "      <td>2</td>\n",
              "    </tr>\n",
              "    <tr>\n",
              "      <th>1</th>\n",
              "      <td>25</td>\n",
              "      <td>14</td>\n",
              "      <td>30</td>\n",
              "      <td>68</td>\n",
              "      <td>48</td>\n",
              "      <td>75</td>\n",
              "      <td>123</td>\n",
              "      <td>93</td>\n",
              "      <td>126</td>\n",
              "      <td>158</td>\n",
              "      <td>...</td>\n",
              "      <td>60</td>\n",
              "      <td>39</td>\n",
              "      <td>55</td>\n",
              "      <td>25</td>\n",
              "      <td>14</td>\n",
              "      <td>28</td>\n",
              "      <td>25</td>\n",
              "      <td>14</td>\n",
              "      <td>27</td>\n",
              "      <td>2</td>\n",
              "    </tr>\n",
              "    <tr>\n",
              "      <th>2</th>\n",
              "      <td>192</td>\n",
              "      <td>138</td>\n",
              "      <td>153</td>\n",
              "      <td>200</td>\n",
              "      <td>145</td>\n",
              "      <td>163</td>\n",
              "      <td>201</td>\n",
              "      <td>142</td>\n",
              "      <td>160</td>\n",
              "      <td>206</td>\n",
              "      <td>...</td>\n",
              "      <td>167</td>\n",
              "      <td>129</td>\n",
              "      <td>143</td>\n",
              "      <td>159</td>\n",
              "      <td>124</td>\n",
              "      <td>142</td>\n",
              "      <td>136</td>\n",
              "      <td>104</td>\n",
              "      <td>117</td>\n",
              "      <td>2</td>\n",
              "    </tr>\n",
              "    <tr>\n",
              "      <th>3</th>\n",
              "      <td>38</td>\n",
              "      <td>19</td>\n",
              "      <td>30</td>\n",
              "      <td>95</td>\n",
              "      <td>59</td>\n",
              "      <td>72</td>\n",
              "      <td>143</td>\n",
              "      <td>103</td>\n",
              "      <td>119</td>\n",
              "      <td>171</td>\n",
              "      <td>...</td>\n",
              "      <td>44</td>\n",
              "      <td>26</td>\n",
              "      <td>36</td>\n",
              "      <td>25</td>\n",
              "      <td>12</td>\n",
              "      <td>17</td>\n",
              "      <td>25</td>\n",
              "      <td>12</td>\n",
              "      <td>15</td>\n",
              "      <td>2</td>\n",
              "    </tr>\n",
              "    <tr>\n",
              "      <th>4</th>\n",
              "      <td>158</td>\n",
              "      <td>113</td>\n",
              "      <td>139</td>\n",
              "      <td>194</td>\n",
              "      <td>144</td>\n",
              "      <td>174</td>\n",
              "      <td>215</td>\n",
              "      <td>162</td>\n",
              "      <td>191</td>\n",
              "      <td>225</td>\n",
              "      <td>...</td>\n",
              "      <td>209</td>\n",
              "      <td>166</td>\n",
              "      <td>185</td>\n",
              "      <td>172</td>\n",
              "      <td>135</td>\n",
              "      <td>149</td>\n",
              "      <td>109</td>\n",
              "      <td>78</td>\n",
              "      <td>92</td>\n",
              "      <td>2</td>\n",
              "    </tr>\n",
              "  </tbody>\n",
              "</table>\n",
              "<p>5 rows × 2353 columns</p>\n",
              "</div>\n",
              "      <button class=\"colab-df-convert\" onclick=\"convertToInteractive('df-1fb8ae5c-88fe-478a-a633-0842179c1120')\"\n",
              "              title=\"Convert this dataframe to an interactive table.\"\n",
              "              style=\"display:none;\">\n",
              "        \n",
              "  <svg xmlns=\"http://www.w3.org/2000/svg\" height=\"24px\"viewBox=\"0 0 24 24\"\n",
              "       width=\"24px\">\n",
              "    <path d=\"M0 0h24v24H0V0z\" fill=\"none\"/>\n",
              "    <path d=\"M18.56 5.44l.94 2.06.94-2.06 2.06-.94-2.06-.94-.94-2.06-.94 2.06-2.06.94zm-11 1L8.5 8.5l.94-2.06 2.06-.94-2.06-.94L8.5 2.5l-.94 2.06-2.06.94zm10 10l.94 2.06.94-2.06 2.06-.94-2.06-.94-.94-2.06-.94 2.06-2.06.94z\"/><path d=\"M17.41 7.96l-1.37-1.37c-.4-.4-.92-.59-1.43-.59-.52 0-1.04.2-1.43.59L10.3 9.45l-7.72 7.72c-.78.78-.78 2.05 0 2.83L4 21.41c.39.39.9.59 1.41.59.51 0 1.02-.2 1.41-.59l7.78-7.78 2.81-2.81c.8-.78.8-2.07 0-2.86zM5.41 20L4 18.59l7.72-7.72 1.47 1.35L5.41 20z\"/>\n",
              "  </svg>\n",
              "      </button>\n",
              "      \n",
              "  <style>\n",
              "    .colab-df-container {\n",
              "      display:flex;\n",
              "      flex-wrap:wrap;\n",
              "      gap: 12px;\n",
              "    }\n",
              "\n",
              "    .colab-df-convert {\n",
              "      background-color: #E8F0FE;\n",
              "      border: none;\n",
              "      border-radius: 50%;\n",
              "      cursor: pointer;\n",
              "      display: none;\n",
              "      fill: #1967D2;\n",
              "      height: 32px;\n",
              "      padding: 0 0 0 0;\n",
              "      width: 32px;\n",
              "    }\n",
              "\n",
              "    .colab-df-convert:hover {\n",
              "      background-color: #E2EBFA;\n",
              "      box-shadow: 0px 1px 2px rgba(60, 64, 67, 0.3), 0px 1px 3px 1px rgba(60, 64, 67, 0.15);\n",
              "      fill: #174EA6;\n",
              "    }\n",
              "\n",
              "    [theme=dark] .colab-df-convert {\n",
              "      background-color: #3B4455;\n",
              "      fill: #D2E3FC;\n",
              "    }\n",
              "\n",
              "    [theme=dark] .colab-df-convert:hover {\n",
              "      background-color: #434B5C;\n",
              "      box-shadow: 0px 1px 3px 1px rgba(0, 0, 0, 0.15);\n",
              "      filter: drop-shadow(0px 1px 2px rgba(0, 0, 0, 0.3));\n",
              "      fill: #FFFFFF;\n",
              "    }\n",
              "  </style>\n",
              "\n",
              "      <script>\n",
              "        const buttonEl =\n",
              "          document.querySelector('#df-1fb8ae5c-88fe-478a-a633-0842179c1120 button.colab-df-convert');\n",
              "        buttonEl.style.display =\n",
              "          google.colab.kernel.accessAllowed ? 'block' : 'none';\n",
              "\n",
              "        async function convertToInteractive(key) {\n",
              "          const element = document.querySelector('#df-1fb8ae5c-88fe-478a-a633-0842179c1120');\n",
              "          const dataTable =\n",
              "            await google.colab.kernel.invokeFunction('convertToInteractive',\n",
              "                                                     [key], {});\n",
              "          if (!dataTable) return;\n",
              "\n",
              "          const docLinkHtml = 'Like what you see? Visit the ' +\n",
              "            '<a target=\"_blank\" href=https://colab.research.google.com/notebooks/data_table.ipynb>data table notebook</a>'\n",
              "            + ' to learn more about interactive tables.';\n",
              "          element.innerHTML = '';\n",
              "          dataTable['output_type'] = 'display_data';\n",
              "          await google.colab.output.renderOutput(dataTable, element);\n",
              "          const docLink = document.createElement('div');\n",
              "          docLink.innerHTML = docLinkHtml;\n",
              "          element.appendChild(docLink);\n",
              "        }\n",
              "      </script>\n",
              "    </div>\n",
              "  </div>\n",
              "  "
            ]
          },
          "metadata": {},
          "execution_count": 4
        }
      ]
    },
    {
      "cell_type": "markdown",
      "source": [
        "2. Get familiar with the data"
      ],
      "metadata": {
        "id": "wjQZO-9ikmVV"
      }
    },
    {
      "cell_type": "code",
      "execution_count": 5,
      "metadata": {
        "id": "-jg16oEckSf9",
        "colab": {
          "base_uri": "https://localhost:8080/",
          "height": 299
        },
        "outputId": "d9e24a1b-c816-4226-c1f4-c64bba1669f4"
      },
      "outputs": [
        {
          "output_type": "execute_result",
          "data": {
            "text/plain": [
              "   pixel0000  pixel0001  pixel0002  pixel0003  pixel0004  pixel0005  \\\n",
              "0        192        153        193        195        155        192   \n",
              "1         25         14         30         68         48         75   \n",
              "2        192        138        153        200        145        163   \n",
              "3         38         19         30         95         59         72   \n",
              "4        158        113        139        194        144        174   \n",
              "\n",
              "   pixel0006  pixel0007  pixel0008  pixel0009  ...  pixel2342  pixel2343  \\\n",
              "0        197        154        185        202  ...        134        173   \n",
              "1        123         93        126        158  ...         82         60   \n",
              "2        201        142        160        206  ...        149        167   \n",
              "3        143        103        119        171  ...         73         44   \n",
              "4        215        162        191        225  ...        201        209   \n",
              "\n",
              "   pixel2344  pixel2345  pixel2346  pixel2347  pixel2348  pixel2349  \\\n",
              "0        124        138        183        147        166        185   \n",
              "1         39         55         25         14         28         25   \n",
              "2        129        143        159        124        142        136   \n",
              "3         26         36         25         12         17         25   \n",
              "4        166        185        172        135        149        109   \n",
              "\n",
              "   pixel2350  pixel2351  \n",
              "0        154        177  \n",
              "1         14         27  \n",
              "2        104        117  \n",
              "3         12         15  \n",
              "4         78         92  \n",
              "\n",
              "[5 rows x 2352 columns]"
            ],
            "text/html": [
              "\n",
              "  <div id=\"df-82574546-3cb0-408f-98a9-6aaaea93378f\">\n",
              "    <div class=\"colab-df-container\">\n",
              "      <div>\n",
              "<style scoped>\n",
              "    .dataframe tbody tr th:only-of-type {\n",
              "        vertical-align: middle;\n",
              "    }\n",
              "\n",
              "    .dataframe tbody tr th {\n",
              "        vertical-align: top;\n",
              "    }\n",
              "\n",
              "    .dataframe thead th {\n",
              "        text-align: right;\n",
              "    }\n",
              "</style>\n",
              "<table border=\"1\" class=\"dataframe\">\n",
              "  <thead>\n",
              "    <tr style=\"text-align: right;\">\n",
              "      <th></th>\n",
              "      <th>pixel0000</th>\n",
              "      <th>pixel0001</th>\n",
              "      <th>pixel0002</th>\n",
              "      <th>pixel0003</th>\n",
              "      <th>pixel0004</th>\n",
              "      <th>pixel0005</th>\n",
              "      <th>pixel0006</th>\n",
              "      <th>pixel0007</th>\n",
              "      <th>pixel0008</th>\n",
              "      <th>pixel0009</th>\n",
              "      <th>...</th>\n",
              "      <th>pixel2342</th>\n",
              "      <th>pixel2343</th>\n",
              "      <th>pixel2344</th>\n",
              "      <th>pixel2345</th>\n",
              "      <th>pixel2346</th>\n",
              "      <th>pixel2347</th>\n",
              "      <th>pixel2348</th>\n",
              "      <th>pixel2349</th>\n",
              "      <th>pixel2350</th>\n",
              "      <th>pixel2351</th>\n",
              "    </tr>\n",
              "  </thead>\n",
              "  <tbody>\n",
              "    <tr>\n",
              "      <th>0</th>\n",
              "      <td>192</td>\n",
              "      <td>153</td>\n",
              "      <td>193</td>\n",
              "      <td>195</td>\n",
              "      <td>155</td>\n",
              "      <td>192</td>\n",
              "      <td>197</td>\n",
              "      <td>154</td>\n",
              "      <td>185</td>\n",
              "      <td>202</td>\n",
              "      <td>...</td>\n",
              "      <td>134</td>\n",
              "      <td>173</td>\n",
              "      <td>124</td>\n",
              "      <td>138</td>\n",
              "      <td>183</td>\n",
              "      <td>147</td>\n",
              "      <td>166</td>\n",
              "      <td>185</td>\n",
              "      <td>154</td>\n",
              "      <td>177</td>\n",
              "    </tr>\n",
              "    <tr>\n",
              "      <th>1</th>\n",
              "      <td>25</td>\n",
              "      <td>14</td>\n",
              "      <td>30</td>\n",
              "      <td>68</td>\n",
              "      <td>48</td>\n",
              "      <td>75</td>\n",
              "      <td>123</td>\n",
              "      <td>93</td>\n",
              "      <td>126</td>\n",
              "      <td>158</td>\n",
              "      <td>...</td>\n",
              "      <td>82</td>\n",
              "      <td>60</td>\n",
              "      <td>39</td>\n",
              "      <td>55</td>\n",
              "      <td>25</td>\n",
              "      <td>14</td>\n",
              "      <td>28</td>\n",
              "      <td>25</td>\n",
              "      <td>14</td>\n",
              "      <td>27</td>\n",
              "    </tr>\n",
              "    <tr>\n",
              "      <th>2</th>\n",
              "      <td>192</td>\n",
              "      <td>138</td>\n",
              "      <td>153</td>\n",
              "      <td>200</td>\n",
              "      <td>145</td>\n",
              "      <td>163</td>\n",
              "      <td>201</td>\n",
              "      <td>142</td>\n",
              "      <td>160</td>\n",
              "      <td>206</td>\n",
              "      <td>...</td>\n",
              "      <td>149</td>\n",
              "      <td>167</td>\n",
              "      <td>129</td>\n",
              "      <td>143</td>\n",
              "      <td>159</td>\n",
              "      <td>124</td>\n",
              "      <td>142</td>\n",
              "      <td>136</td>\n",
              "      <td>104</td>\n",
              "      <td>117</td>\n",
              "    </tr>\n",
              "    <tr>\n",
              "      <th>3</th>\n",
              "      <td>38</td>\n",
              "      <td>19</td>\n",
              "      <td>30</td>\n",
              "      <td>95</td>\n",
              "      <td>59</td>\n",
              "      <td>72</td>\n",
              "      <td>143</td>\n",
              "      <td>103</td>\n",
              "      <td>119</td>\n",
              "      <td>171</td>\n",
              "      <td>...</td>\n",
              "      <td>73</td>\n",
              "      <td>44</td>\n",
              "      <td>26</td>\n",
              "      <td>36</td>\n",
              "      <td>25</td>\n",
              "      <td>12</td>\n",
              "      <td>17</td>\n",
              "      <td>25</td>\n",
              "      <td>12</td>\n",
              "      <td>15</td>\n",
              "    </tr>\n",
              "    <tr>\n",
              "      <th>4</th>\n",
              "      <td>158</td>\n",
              "      <td>113</td>\n",
              "      <td>139</td>\n",
              "      <td>194</td>\n",
              "      <td>144</td>\n",
              "      <td>174</td>\n",
              "      <td>215</td>\n",
              "      <td>162</td>\n",
              "      <td>191</td>\n",
              "      <td>225</td>\n",
              "      <td>...</td>\n",
              "      <td>201</td>\n",
              "      <td>209</td>\n",
              "      <td>166</td>\n",
              "      <td>185</td>\n",
              "      <td>172</td>\n",
              "      <td>135</td>\n",
              "      <td>149</td>\n",
              "      <td>109</td>\n",
              "      <td>78</td>\n",
              "      <td>92</td>\n",
              "    </tr>\n",
              "  </tbody>\n",
              "</table>\n",
              "<p>5 rows × 2352 columns</p>\n",
              "</div>\n",
              "      <button class=\"colab-df-convert\" onclick=\"convertToInteractive('df-82574546-3cb0-408f-98a9-6aaaea93378f')\"\n",
              "              title=\"Convert this dataframe to an interactive table.\"\n",
              "              style=\"display:none;\">\n",
              "        \n",
              "  <svg xmlns=\"http://www.w3.org/2000/svg\" height=\"24px\"viewBox=\"0 0 24 24\"\n",
              "       width=\"24px\">\n",
              "    <path d=\"M0 0h24v24H0V0z\" fill=\"none\"/>\n",
              "    <path d=\"M18.56 5.44l.94 2.06.94-2.06 2.06-.94-2.06-.94-.94-2.06-.94 2.06-2.06.94zm-11 1L8.5 8.5l.94-2.06 2.06-.94-2.06-.94L8.5 2.5l-.94 2.06-2.06.94zm10 10l.94 2.06.94-2.06 2.06-.94-2.06-.94-.94-2.06-.94 2.06-2.06.94z\"/><path d=\"M17.41 7.96l-1.37-1.37c-.4-.4-.92-.59-1.43-.59-.52 0-1.04.2-1.43.59L10.3 9.45l-7.72 7.72c-.78.78-.78 2.05 0 2.83L4 21.41c.39.39.9.59 1.41.59.51 0 1.02-.2 1.41-.59l7.78-7.78 2.81-2.81c.8-.78.8-2.07 0-2.86zM5.41 20L4 18.59l7.72-7.72 1.47 1.35L5.41 20z\"/>\n",
              "  </svg>\n",
              "      </button>\n",
              "      \n",
              "  <style>\n",
              "    .colab-df-container {\n",
              "      display:flex;\n",
              "      flex-wrap:wrap;\n",
              "      gap: 12px;\n",
              "    }\n",
              "\n",
              "    .colab-df-convert {\n",
              "      background-color: #E8F0FE;\n",
              "      border: none;\n",
              "      border-radius: 50%;\n",
              "      cursor: pointer;\n",
              "      display: none;\n",
              "      fill: #1967D2;\n",
              "      height: 32px;\n",
              "      padding: 0 0 0 0;\n",
              "      width: 32px;\n",
              "    }\n",
              "\n",
              "    .colab-df-convert:hover {\n",
              "      background-color: #E2EBFA;\n",
              "      box-shadow: 0px 1px 2px rgba(60, 64, 67, 0.3), 0px 1px 3px 1px rgba(60, 64, 67, 0.15);\n",
              "      fill: #174EA6;\n",
              "    }\n",
              "\n",
              "    [theme=dark] .colab-df-convert {\n",
              "      background-color: #3B4455;\n",
              "      fill: #D2E3FC;\n",
              "    }\n",
              "\n",
              "    [theme=dark] .colab-df-convert:hover {\n",
              "      background-color: #434B5C;\n",
              "      box-shadow: 0px 1px 3px 1px rgba(0, 0, 0, 0.15);\n",
              "      filter: drop-shadow(0px 1px 2px rgba(0, 0, 0, 0.3));\n",
              "      fill: #FFFFFF;\n",
              "    }\n",
              "  </style>\n",
              "\n",
              "      <script>\n",
              "        const buttonEl =\n",
              "          document.querySelector('#df-82574546-3cb0-408f-98a9-6aaaea93378f button.colab-df-convert');\n",
              "        buttonEl.style.display =\n",
              "          google.colab.kernel.accessAllowed ? 'block' : 'none';\n",
              "\n",
              "        async function convertToInteractive(key) {\n",
              "          const element = document.querySelector('#df-82574546-3cb0-408f-98a9-6aaaea93378f');\n",
              "          const dataTable =\n",
              "            await google.colab.kernel.invokeFunction('convertToInteractive',\n",
              "                                                     [key], {});\n",
              "          if (!dataTable) return;\n",
              "\n",
              "          const docLinkHtml = 'Like what you see? Visit the ' +\n",
              "            '<a target=\"_blank\" href=https://colab.research.google.com/notebooks/data_table.ipynb>data table notebook</a>'\n",
              "            + ' to learn more about interactive tables.';\n",
              "          element.innerHTML = '';\n",
              "          dataTable['output_type'] = 'display_data';\n",
              "          await google.colab.output.renderOutput(dataTable, element);\n",
              "          const docLink = document.createElement('div');\n",
              "          docLink.innerHTML = docLinkHtml;\n",
              "          element.appendChild(docLink);\n",
              "        }\n",
              "      </script>\n",
              "    </div>\n",
              "  </div>\n",
              "  "
            ]
          },
          "metadata": {},
          "execution_count": 5
        }
      ],
      "source": [
        "Label = dataSet[\"label\"]\n",
        "Data = dataSet.drop(columns=[\"label\"]) \n",
        "Data.head()"
      ]
    },
    {
      "cell_type": "code",
      "source": [
        "Data.shape"
      ],
      "metadata": {
        "colab": {
          "base_uri": "https://localhost:8080/"
        },
        "id": "5nyxxwp3l2Ik",
        "outputId": "d9c561f9-b33c-4ccf-fc11-f239c2aef7ab"
      },
      "execution_count": 6,
      "outputs": [
        {
          "output_type": "execute_result",
          "data": {
            "text/plain": [
              "(10015, 2352)"
            ]
          },
          "metadata": {},
          "execution_count": 6
        }
      ]
    },
    {
      "cell_type": "code",
      "execution_count": 7,
      "metadata": {
        "colab": {
          "base_uri": "https://localhost:8080/",
          "height": 681
        },
        "id": "Qmf4Ko2urlaY",
        "outputId": "ed98ad1e-1a5f-4f45-a205-724e7af8c06f"
      },
      "outputs": [
        {
          "output_type": "stream",
          "name": "stderr",
          "text": [
            "/usr/local/lib/python3.8/dist-packages/seaborn/_decorators.py:36: FutureWarning: Pass the following variable as a keyword arg: x. From version 0.12, the only valid positional argument will be `data`, and passing other arguments without an explicit keyword will result in an error or misinterpretation.\n",
            "  warnings.warn(\n"
          ]
        },
        {
          "output_type": "execute_result",
          "data": {
            "text/plain": [
              "<matplotlib.axes._subplots.AxesSubplot at 0x7efe18718d30>"
            ]
          },
          "metadata": {},
          "execution_count": 7
        },
        {
          "output_type": "display_data",
          "data": {
            "text/plain": [
              "<Figure size 720x720 with 1 Axes>"
            ],
            "image/png": "[encoded data removed]"
          },
          "metadata": {
            "needs_background": "light"
          }
        }
      ],
      "source": [
        "plt.figure(figsize = (10,10))\n",
        "sns.set_style(\"darkgrid\")\n",
        "sns.countplot(Label)"
      ]
    },
    {
      "cell_type": "markdown",
      "source": [
        "deal with imbalanced data by balancing classes"
      ],
      "metadata": {
        "id": "kiHeUDBOlh8I"
      }
    },
    {
      "cell_type": "code",
      "execution_count": 8,
      "metadata": {
        "id": "H5rKXA8eH9bM",
        "colab": {
          "base_uri": "https://localhost:8080/"
        },
        "outputId": "62de3714-c88f-4999-aea8-fc2919c69061"
      },
      "outputs": [
        {
          "output_type": "stream",
          "name": "stdout",
          "text": [
            "Shape of Data : (46935, 28, 28, 3)\n"
          ]
        }
      ],
      "source": [
        "oversample = RandomOverSampler()\n",
        "Data,Label  = oversample.fit_resample(Data,Label)\n",
        "Data = np.array(Data).reshape(-1,28,28,3)\n",
        "print('Shape of Data :',Data.shape)"
      ]
    },
    {
      "cell_type": "code",
      "execution_count": 9,
      "metadata": {
        "colab": {
          "base_uri": "https://localhost:8080/",
          "height": 681
        },
        "id": "cYuyu7ecoh_Z",
        "outputId": "98c6f94b-3e0c-4eb7-edcf-b8025bb7ea69"
      },
      "outputs": [
        {
          "output_type": "stream",
          "name": "stderr",
          "text": [
            "/usr/local/lib/python3.8/dist-packages/seaborn/_decorators.py:36: FutureWarning: Pass the following variable as a keyword arg: x. From version 0.12, the only valid positional argument will be `data`, and passing other arguments without an explicit keyword will result in an error or misinterpretation.\n",
            "  warnings.warn(\n"
          ]
        },
        {
          "output_type": "execute_result",
          "data": {
            "text/plain": [
              "<matplotlib.axes._subplots.AxesSubplot at 0x7efe187b6d90>"
            ]
          },
          "metadata": {},
          "execution_count": 9
        },
        {
          "output_type": "display_data",
          "data": {
            "text/plain": [
              "<Figure size 720x720 with 1 Axes>"
            ],
            "image/png": "[encoded data removed]"
          },
          "metadata": {}
        }
      ],
      "source": [
        "plt.figure(figsize = (10,10))\n",
        "sns.set_style(\"darkgrid\")\n",
        "sns.countplot(Label)"
      ]
    },
    {
      "cell_type": "code",
      "execution_count": 10,
      "metadata": {
        "colab": {
          "base_uri": "https://localhost:8080/"
        },
        "id": "4JUp19BPosXR",
        "outputId": "a0e9056d-26df-42b4-a1b5-00a34bc762f8"
      },
      "outputs": [
        {
          "output_type": "execute_result",
          "data": {
            "text/plain": [
              "array([2, 2, 2, ..., 6, 6, 6])"
            ]
          },
          "metadata": {},
          "execution_count": 10
        }
      ],
      "source": [
        "Label = np.array(Label)\n",
        "Label"
      ]
    },
    {
      "cell_type": "code",
      "execution_count": 11,
      "metadata": {
        "colab": {
          "base_uri": "https://localhost:8080/",
          "height": 72
        },
        "id": "I480__5OowxE",
        "outputId": "60d19d05-4b6f-40d4-92d8-9732bd16e5a5"
      },
      "outputs": [
        {
          "output_type": "execute_result",
          "data": {
            "text/plain": [
              "\"classes = {4: ('nv', ' melanocytic nevi'),\\n           6: ('mel', 'melanoma'),\\n           2 :('bkl', 'benign keratosis-like lesions'), \\n           1:('bcc' , ' basal cell carcinoma'),\\n           5: ('vasc', ' pyogenic granulomas and hemorrhage'),\\n           0: ('akiec', 'Actinic keratoses and intraepithelial carcinomae'),\\n           3: ('df', 'dermatofibroma')}\""
            ],
            "application/vnd.google.colaboratory.intrinsic+json": {
              "type": "string"
            }
          },
          "metadata": {},
          "execution_count": 11
        }
      ],
      "source": [
        "classes = {4: 'nv',\n",
        "           6: 'mel',\n",
        "           2: 'bkl', \n",
        "           1: 'bcc',\n",
        "           5: 'vasc',\n",
        "           0: 'akiec',\n",
        "           3: 'df'}\n",
        "'''classes = {4: ('nv', ' melanocytic nevi'),\n",
        "           6: ('mel', 'melanoma'),\n",
        "           2 :('bkl', 'benign keratosis-like lesions'), \n",
        "           1:('bcc' , ' basal cell carcinoma'),\n",
        "           5: ('vasc', ' pyogenic granulomas and hemorrhage'),\n",
        "           0: ('akiec', 'Actinic keratoses and intraepithelial carcinomae'),\n",
        "           3: ('df', 'dermatofibroma')}'''"
      ]
    },
    {
      "cell_type": "markdown",
      "source": [
        "Split data into test and dataset"
      ],
      "metadata": {
        "id": "gzeu9ix6nSHm"
      }
    },
    {
      "cell_type": "code",
      "execution_count": 12,
      "metadata": {
        "id": "_Ypuc1dqoyOF"
      },
      "outputs": [],
      "source": [
        "X_train , X_test , y_train , y_test = train_test_split(Data , Label , test_size = 0.25 , random_state = 49)"
      ]
    },
    {
      "cell_type": "code",
      "source": [
        "X_test, X_val, y_test, y_val = train_test_split(X_test, y_test, test_size = 0.5, random_state = 49)"
      ],
      "metadata": {
        "id": "Em7zlEHkR1bO"
      },
      "execution_count": 13,
      "outputs": []
    },
    {
      "cell_type": "code",
      "execution_count": 14,
      "metadata": {
        "colab": {
          "base_uri": "https://localhost:8080/"
        },
        "id": "CUhtB9qjo0b-",
        "outputId": "ec489f5b-4b47-4723-b7a1-08e6151a689e"
      },
      "outputs": [
        {
          "output_type": "stream",
          "name": "stdout",
          "text": [
            "(35201, 28, 28, 3)\n",
            "(5867, 28, 28, 3)\n",
            "(35201,)\n",
            "(5867,)\n"
          ]
        }
      ],
      "source": [
        "print(X_train.shape)\n",
        "print(X_test.shape)\n",
        "#print(X_val.shape)\n",
        "print(y_train.shape)\n",
        "print(y_test.shape)\n",
        "#print(y_val.shape)"
      ]
    },
    {
      "cell_type": "code",
      "execution_count": 15,
      "metadata": {
        "colab": {
          "base_uri": "https://localhost:8080/",
          "height": 415
        },
        "id": "hIDf9Xk9ZHO_",
        "outputId": "6826323a-158d-4f7f-aafa-74bdfe927b11"
      },
      "outputs": [
        {
          "output_type": "display_data",
          "data": {
            "text/plain": [
              "<Figure size 720x720 with 10 Axes>"
            ],
            "image/png": "[encoded data removed]"
          },
          "metadata": {}
        }
      ],
      "source": [
        "#plotting images\n",
        "f , ax = plt.subplots(2,5)\n",
        "f.set_size_inches(10, 10)\n",
        "k = 0 \n",
        "for i in range(2):\n",
        "    for j in range(5):\n",
        "        ax[i,j].imshow(X_train[k].reshape(28,28,3))\n",
        "        ax[i,j].set_title(classes[y_train[k]])\n",
        "        k = k + 1\n",
        "    plt.tight_layout()"
      ]
    },
    {
      "cell_type": "code",
      "execution_count": 16,
      "metadata": {
        "id": "DXphX7abuMDa"
      },
      "outputs": [],
      "source": [
        "#one hot encoding\n",
        "y_train = to_categorical(y_train)\n",
        "y_test = to_categorical(y_test)\n",
        "#y_val = to_categorical(y_val)"
      ]
    },
    {
      "cell_type": "code",
      "source": [
        "print(y_train)"
      ],
      "metadata": {
        "colab": {
          "base_uri": "https://localhost:8080/"
        },
        "id": "e9x8QfmNr3SE",
        "outputId": "a106f3a3-3363-499c-a76d-131228f2d0c8"
      },
      "execution_count": 17,
      "outputs": [
        {
          "output_type": "stream",
          "name": "stdout",
          "text": [
            "[[0. 0. 0. ... 0. 0. 0.]\n",
            " [1. 0. 0. ... 0. 0. 0.]\n",
            " [0. 1. 0. ... 0. 0. 0.]\n",
            " ...\n",
            " [1. 0. 0. ... 0. 0. 0.]\n",
            " [0. 0. 0. ... 0. 0. 0.]\n",
            " [0. 0. 1. ... 0. 0. 0.]]\n"
          ]
        }
      ]
    },
    {
      "cell_type": "markdown",
      "metadata": {
        "id": "VoZmflCSurwA"
      },
      "source": [
        "3. build train, test and validation generators"
      ]
    },
    {
      "cell_type": "code",
      "source": [
        "X_train = X_train.astype('float32')"
      ],
      "metadata": {
        "id": "O56YBPqUgTon"
      },
      "execution_count": 18,
      "outputs": []
    },
    {
      "cell_type": "code",
      "source": [
        "X_test = X_test.astype('float32')"
      ],
      "metadata": {
        "id": "iw5dbjv8gi4E"
      },
      "execution_count": 19,
      "outputs": []
    },
    {
      "cell_type": "code",
      "source": [
        "X_train /= 255\n",
        "X_test /= 255"
      ],
      "metadata": {
        "id": "_bjiOIeTfjnb"
      },
      "execution_count": 20,
      "outputs": []
    },
    {
      "cell_type": "code",
      "execution_count": 18,
      "metadata": {
        "id": "cNnNy96NacRp"
      },
      "outputs": [],
      "source": [
        "training_generator = ImageDataGenerator(rescale=1./255,\n",
        "                                        rotation_range = 10,\n",
        "                                        zoom_range = 0.1,\n",
        "                                        shear_range = 0.2,\n",
        "                                        width_shift_range = 0.1,\n",
        "                                        height_shift_range = 0.2,\n",
        "                                        horizontal_flip=True, \n",
        "                                        vertical_flip=True)\n"
      ]
    },
    {
      "cell_type": "markdown",
      "metadata": {
        "id": "GvtpTzSjvBVs"
      },
      "source": [
        "4. Build and train model"
      ]
    },
    {
      "cell_type": "code",
      "source": [
        "initializer1 = tf.keras.initializers.HeNormal()\n",
        "\n",
        "initializer2 = tf.keras.initializers.GlorotUniform()"
      ],
      "metadata": {
        "id": "yCzyGRCFe86c"
      },
      "execution_count": 21,
      "outputs": []
    },
    {
      "cell_type": "code",
      "execution_count": 52,
      "metadata": {
        "colab": {
          "base_uri": "https://localhost:8080/"
        },
        "id": "WLQrdmvft9tP",
        "outputId": "99a33b4a-e741-41b2-a663-15006c661132"
      },
      "outputs": [
        {
          "output_type": "stream",
          "name": "stdout",
          "text": [
            "Model: \"sequential_1\"\n",
            "_________________________________________________________________\n",
            "Layer (type)                 Output Shape              Param #   \n",
            "=================================================================\n",
            "conv2d_7 (Conv2D)            (None, 26, 26, 32)        896       \n",
            "_________________________________________________________________\n",
            "batch_normalization_8 (Batch (None, 26, 26, 32)        128       \n",
            "_________________________________________________________________\n",
            "max_pooling2d_4 (MaxPooling2 (None, 13, 13, 32)        0         \n",
            "_________________________________________________________________\n",
            "conv2d_8 (Conv2D)            (None, 13, 13, 64)        18496     \n",
            "_________________________________________________________________\n",
            "conv2d_9 (Conv2D)            (None, 13, 13, 64)        36928     \n",
            "_________________________________________________________________\n",
            "batch_normalization_9 (Batch (None, 13, 13, 64)        256       \n",
            "_________________________________________________________________\n",
            "max_pooling2d_5 (MaxPooling2 (None, 6, 6, 64)          0         \n",
            "_________________________________________________________________\n",
            "conv2d_10 (Conv2D)           (None, 6, 6, 128)         73856     \n",
            "_________________________________________________________________\n",
            "conv2d_11 (Conv2D)           (None, 6, 6, 128)         147584    \n",
            "_________________________________________________________________\n",
            "batch_normalization_10 (Batc (None, 6, 6, 128)         512       \n",
            "_________________________________________________________________\n",
            "max_pooling2d_6 (MaxPooling2 (None, 3, 3, 128)         0         \n",
            "_________________________________________________________________\n",
            "conv2d_12 (Conv2D)           (None, 3, 3, 256)         33024     \n",
            "_________________________________________________________________\n",
            "conv2d_13 (Conv2D)           (None, 3, 3, 256)         65792     \n",
            "_________________________________________________________________\n",
            "batch_normalization_11 (Batc (None, 3, 3, 256)         1024      \n",
            "_________________________________________________________________\n",
            "max_pooling2d_7 (MaxPooling2 (None, 1, 1, 256)         0         \n",
            "_________________________________________________________________\n",
            "flatten_1 (Flatten)          (None, 256)               0         \n",
            "_________________________________________________________________\n",
            "dense_5 (Dense)              (None, 256)               65792     \n",
            "_________________________________________________________________\n",
            "batch_normalization_12 (Batc (None, 256)               1024      \n",
            "_________________________________________________________________\n",
            "dense_6 (Dense)              (None, 128)               32896     \n",
            "_________________________________________________________________\n",
            "batch_normalization_13 (Batc (None, 128)               512       \n",
            "_________________________________________________________________\n",
            "dense_7 (Dense)              (None, 64)                8256      \n",
            "_________________________________________________________________\n",
            "batch_normalization_14 (Batc (None, 64)                256       \n",
            "_________________________________________________________________\n",
            "dense_8 (Dense)              (None, 32)                2080      \n",
            "_________________________________________________________________\n",
            "batch_normalization_15 (Batc (None, 32)                128       \n",
            "_________________________________________________________________\n",
            "dense_9 (Dense)              (None, 7)                 231       \n",
            "=================================================================\n",
            "Total params: 489,671\n",
            "Trainable params: 487,751\n",
            "Non-trainable params: 1,920\n",
            "_________________________________________________________________\n"
          ]
        }
      ],
      "source": [
        "network = Sequential()\n",
        "network.add(Conv2D(filters=32, kernel_size=(3,3), activation = 'relu', input_shape = (28,28,3), kernel_initializer=initializer1))\n",
        "network.add(BatchNormalization())\n",
        "network.add(MaxPool2D(pool_size=(2,2)))\n",
        "\n",
        "network.add(Conv2D(filters=64, kernel_size=(3,3), activation = 'relu', padding='same', kernel_initializer=initializer1))\n",
        "network.add(Conv2D(filters=64, kernel_size=(3,3), activation = 'relu', padding='same', kernel_initializer=initializer1))\n",
        "network.add(BatchNormalization())\n",
        "network.add(MaxPool2D(pool_size=(2,2)))\n",
        "\n",
        "network.add(Conv2D(filters=128, kernel_size=(3,3), activation = 'relu', padding='same', kernel_initializer=initializer1))\n",
        "network.add(Conv2D(filters=128, kernel_size=(3,3), activation = 'relu', padding='same', kernel_initializer=initializer1))\n",
        "network.add(BatchNormalization())\n",
        "network.add(MaxPool2D(pool_size=(2,2)))\n",
        "\n",
        "network.add(Conv2D(filters=256, kernel_size=(1,1), activation = 'relu', padding='same', kernel_initializer=initializer1))\n",
        "network.add(Conv2D(filters=256, kernel_size=(1,1), activation = 'relu', padding='same', kernel_initializer=initializer1))\n",
        "network.add(BatchNormalization())\n",
        "network.add(MaxPool2D(pool_size=(2,2)))\n",
        "\n",
        "network.add(Flatten())\n",
        "\n",
        "#network.add(Dropout(0.2))\n",
        "network.add(Dense(units = 256, activation = 'relu', kernel_initializer=initializer1))\n",
        "network.add(BatchNormalization())\n",
        "network.add(Dense(units = 128, activation = 'relu', kernel_initializer=initializer1))\n",
        "network.add(BatchNormalization())\n",
        "network.add(Dense(units = 64, activation = 'relu', kernel_initializer=initializer1))\n",
        "network.add(BatchNormalization())\n",
        "network.add(Dense(units = 32, activation = 'relu', kernel_initializer=initializer1, kernel_regularizer=tf.keras.regularizers.L1L2(l1=0.0001, l2= 0.01)))\n",
        "network.add(BatchNormalization())\n",
        "network.add(Dense(units = 7, activation = 'softmax', kernel_initializer=initializer2))\n",
        "network.summary()"
      ]
    },
    {
      "cell_type": "code",
      "execution_count": 53,
      "metadata": {
        "id": "glDQ6isy22na"
      },
      "outputs": [],
      "source": [
        "network.compile(optimizer='Adam', loss = tf.keras.losses.CategoricalCrossentropy(), metrics = ['accuracy'])"
      ]
    },
    {
      "cell_type": "code",
      "execution_count": 55,
      "metadata": {
        "id": "xdbO5C8r25Kt"
      },
      "outputs": [],
      "source": [
        "es = EarlyStopping(monitor = 'val_accuracy', min_delta = 0.001, patience = 3, verbose =1)\n",
        "model_cp = ModelCheckpoint(filepath = 'best_model1.h5', monitor = 'val_accuracy', save_best_only = True, verbose = 1)\n",
        "learning_rate_reduction = ReduceLROnPlateau(monitor='val_accuracy', patience = 2, verbose=1, factor=0.5, min_lr=0.00001)"
      ]
    },
    {
      "cell_type": "code",
      "execution_count": 56,
      "metadata": {
        "colab": {
          "base_uri": "https://localhost:8080/"
        },
        "id": "kGHdPzdP27_x",
        "outputId": "10a15a86-8405-4e0c-876c-acd40f8a8c42"
      },
      "outputs": [
        {
          "output_type": "stream",
          "name": "stdout",
          "text": [
            "Epoch 1/20\n",
            "276/276 [==============================] - 137s 489ms/step - loss: 1.8670 - accuracy: 0.5488 - val_loss: 2.3325 - val_accuracy: 0.2754\n",
            "\n",
            "Epoch 00001: val_accuracy improved from -inf to 0.27544, saving model to best_model1.h5\n",
            "Epoch 2/20\n",
            "276/276 [==============================] - 129s 467ms/step - loss: 0.6851 - accuracy: 0.8369 - val_loss: 0.8871 - val_accuracy: 0.7096\n",
            "\n",
            "Epoch 00002: val_accuracy improved from 0.27544 to 0.70956, saving model to best_model1.h5\n",
            "Epoch 3/20\n",
            "276/276 [==============================] - 135s 489ms/step - loss: 0.3974 - accuracy: 0.8923 - val_loss: 0.6559 - val_accuracy: 0.7777\n",
            "\n",
            "Epoch 00003: val_accuracy improved from 0.70956 to 0.77774, saving model to best_model1.h5\n",
            "Epoch 4/20\n",
            "276/276 [==============================] - 128s 466ms/step - loss: 0.2796 - accuracy: 0.9159 - val_loss: 0.5434 - val_accuracy: 0.8050\n",
            "\n",
            "Epoch 00004: val_accuracy improved from 0.77774 to 0.80501, saving model to best_model1.h5\n",
            "Epoch 5/20\n",
            "276/276 [==============================] - 133s 482ms/step - loss: 0.2057 - accuracy: 0.9342 - val_loss: 0.4508 - val_accuracy: 0.8532\n",
            "\n",
            "Epoch 00005: val_accuracy improved from 0.80501 to 0.85325, saving model to best_model1.h5\n",
            "Epoch 6/20\n",
            "276/276 [==============================] - 133s 482ms/step - loss: 0.1788 - accuracy: 0.9435 - val_loss: 1.1557 - val_accuracy: 0.7314\n",
            "\n",
            "Epoch 00006: val_accuracy did not improve from 0.85325\n",
            "Epoch 7/20\n",
            "276/276 [==============================] - 127s 460ms/step - loss: 0.1292 - accuracy: 0.9592 - val_loss: 0.5154 - val_accuracy: 0.8492\n",
            "\n",
            "Epoch 00007: val_accuracy did not improve from 0.85325\n",
            "\n",
            "Epoch 00007: ReduceLROnPlateau reducing learning rate to 0.0005000000237487257.\n",
            "Epoch 8/20\n",
            "276/276 [==============================] - 133s 482ms/step - loss: 0.0872 - accuracy: 0.9747 - val_loss: 0.1487 - val_accuracy: 0.9649\n",
            "\n",
            "Epoch 00008: val_accuracy improved from 0.85325 to 0.96489, saving model to best_model1.h5\n",
            "Epoch 9/20\n",
            "276/276 [==============================] - 127s 460ms/step - loss: 0.0325 - accuracy: 0.9928 - val_loss: 0.1282 - val_accuracy: 0.9584\n",
            "\n",
            "Epoch 00009: val_accuracy did not improve from 0.96489\n",
            "Epoch 10/20\n",
            "276/276 [==============================] - 133s 481ms/step - loss: 0.0302 - accuracy: 0.9927 - val_loss: 0.1225 - val_accuracy: 0.9640\n",
            "\n",
            "Epoch 00010: val_accuracy did not improve from 0.96489\n",
            "\n",
            "Epoch 00010: ReduceLROnPlateau reducing learning rate to 0.0002500000118743628.\n",
            "Epoch 11/20\n",
            "276/276 [==============================] - 129s 466ms/step - loss: 0.0191 - accuracy: 0.9958 - val_loss: 0.0751 - val_accuracy: 0.9841\n",
            "\n",
            "Epoch 00011: val_accuracy improved from 0.96489 to 0.98415, saving model to best_model1.h5\n",
            "Epoch 12/20\n",
            "276/276 [==============================] - 133s 483ms/step - loss: 0.0088 - accuracy: 0.9991 - val_loss: 0.0531 - val_accuracy: 0.9881\n",
            "\n",
            "Epoch 00012: val_accuracy improved from 0.98415 to 0.98807, saving model to best_model1.h5\n",
            "Epoch 13/20\n",
            "276/276 [==============================] - 133s 482ms/step - loss: 0.0066 - accuracy: 0.9995 - val_loss: 0.0791 - val_accuracy: 0.9831\n",
            "\n",
            "Epoch 00013: val_accuracy did not improve from 0.98807\n",
            "Epoch 14/20\n",
            "276/276 [==============================] - 127s 459ms/step - loss: 0.0120 - accuracy: 0.9971 - val_loss: 0.0827 - val_accuracy: 0.9814\n",
            "\n",
            "Epoch 00014: val_accuracy did not improve from 0.98807\n",
            "\n",
            "Epoch 00014: ReduceLROnPlateau reducing learning rate to 0.0001250000059371814.\n",
            "Epoch 15/20\n",
            "276/276 [==============================] - 132s 480ms/step - loss: 0.0087 - accuracy: 0.9986 - val_loss: 0.0596 - val_accuracy: 0.9882\n",
            "\n",
            "Epoch 00015: val_accuracy improved from 0.98807 to 0.98824, saving model to best_model1.h5\n",
            "Epoch 00015: early stopping\n"
          ]
        }
      ],
      "source": [
        "history = network.fit(X_train, \n",
        "                      y_train,\n",
        "                      batch_size = 128,\n",
        "                      epochs = 20,\n",
        "                      validation_data = (X_test, y_test),\n",
        "                      callbacks=[es, model_cp, learning_rate_reduction])"
      ]
    },
    {
      "cell_type": "markdown",
      "metadata": {
        "id": "9A28CqJx52xz"
      },
      "source": [
        "5. testing the model"
      ]
    },
    {
      "cell_type": "code",
      "execution_count": 57,
      "metadata": {
        "id": "IbuwWSBn2_Dl",
        "colab": {
          "base_uri": "https://localhost:8080/"
        },
        "outputId": "41ad9fc3-67a4-4c88-b5ea-beab70cb38e3"
      },
      "outputs": [
        {
          "output_type": "stream",
          "name": "stdout",
          "text": [
            "184/184 [==============================] - 7s 36ms/step - loss: 0.0596 - accuracy: 0.9882\n"
          ]
        },
        {
          "output_type": "execute_result",
          "data": {
            "text/plain": [
              "[0.0596269853413105, 0.9882392883300781]"
            ]
          },
          "metadata": {},
          "execution_count": 57
        }
      ],
      "source": [
        "network.evaluate(X_test , y_test)\n",
        "#predictions=network.predict(X_test)\n",
        "#predictions = np.argmax(predictions, axis=1)"
      ]
    },
    {
      "cell_type": "code",
      "execution_count": 58,
      "metadata": {
        "colab": {
          "base_uri": "https://localhost:8080/",
          "height": 265
        },
        "id": "UYX-mUAP5-Mj",
        "outputId": "0206b295-23bd-4dc1-dfa4-99e6d9c83e7f"
      },
      "outputs": [
        {
          "output_type": "display_data",
          "data": {
            "text/plain": [
              "<Figure size 432x288 with 1 Axes>"
            ],
            "image/png": "[encoded data removed]"
          },
          "metadata": {}
        }
      ],
      "source": [
        "plt.plot(history.history[\"accuracy\"] , 'ro-' , label = \"Training Accuracy\")\n",
        "plt.plot(history.history[\"val_accuracy\"] , 'go-' , label = \"Testing Accuracy\")\n",
        "plt.legend()\n",
        "plt.show()"
      ]
    },
    {
      "cell_type": "code",
      "source": [
        "plt.plot(history.history[\"loss\"] , 'ro-' , label = \"Training Loss\")\n",
        "plt.plot(history.history[\"val_loss\"] , 'go-' , label = \"Testing Loss\")\n",
        "plt.legend()\n",
        "plt.show()"
      ],
      "metadata": {
        "colab": {
          "base_uri": "https://localhost:8080/",
          "height": 265
        },
        "id": "t5-LQkK50X-m",
        "outputId": "75516d96-5071-4a95-a52c-3c76a25f805c"
      },
      "execution_count": 59,
      "outputs": [
        {
          "output_type": "display_data",
          "data": {
            "text/plain": [
              "<Figure size 432x288 with 1 Axes>"
            ],
            "image/png": "[encoded data removed]"
          },
          "metadata": {}
        }
      ]
    },
    {
      "cell_type": "code",
      "source": [
        "y_pred  = network.predict(X_test).round()"
      ],
      "metadata": {
        "id": "0nQJydHB0lrJ"
      },
      "execution_count": 60,
      "outputs": []
    },
    {
      "cell_type": "code",
      "source": [
        "target_names = [f\"{classes[i]}\" for i in range(7)]\n",
        "print(classification_report(y_test , y_pred , target_names =target_names ))"
      ],
      "metadata": {
        "colab": {
          "base_uri": "https://localhost:8080/"
        },
        "id": "xzKd_f6_0rwV",
        "outputId": "7a2c8326-5a60-4f4a-cda4-9b903e8a38d3"
      },
      "execution_count": 61,
      "outputs": [
        {
          "output_type": "stream",
          "name": "stdout",
          "text": [
            "              precision    recall  f1-score   support\n",
            "\n",
            "       akiec       1.00      1.00      1.00       858\n",
            "         bcc       0.99      1.00      1.00       836\n",
            "         bkl       0.98      1.00      0.99       837\n",
            "          df       1.00      1.00      1.00       812\n",
            "          nv       1.00      0.92      0.95       809\n",
            "        vasc       1.00      1.00      1.00       838\n",
            "         mel       0.96      1.00      0.98       877\n",
            "\n",
            "   micro avg       0.99      0.99      0.99      5867\n",
            "   macro avg       0.99      0.99      0.99      5867\n",
            "weighted avg       0.99      0.99      0.99      5867\n",
            " samples avg       0.99      0.99      0.99      5867\n",
            "\n"
          ]
        },
        {
          "output_type": "stream",
          "name": "stderr",
          "text": [
            "/usr/local/lib/python3.8/dist-packages/sklearn/metrics/_classification.py:1318: UndefinedMetricWarning: Precision and F-score are ill-defined and being set to 0.0 in samples with no predicted labels. Use `zero_division` parameter to control this behavior.\n",
            "  _warn_prf(average, modifier, msg_start, len(result))\n"
          ]
        }
      ]
    },
    {
      "cell_type": "code",
      "execution_count": 62,
      "metadata": {
        "colab": {
          "base_uri": "https://localhost:8080/",
          "height": 265
        },
        "id": "rOYyGxyP6eC8",
        "outputId": "134cb2b1-92ee-401a-e5c5-0c47804745a3"
      },
      "outputs": [
        {
          "output_type": "display_data",
          "data": {
            "text/plain": [
              "<Figure size 432x288 with 2 Axes>"
            ],
            "image/png": "[encoded data removed]"
          },
          "metadata": {}
        }
      ],
      "source": [
        "cm = confusion_matrix(y_test.argmax(axis=1), y_pred.argmax(axis=1))\n",
        "sns.heatmap(cm, annot=True, fmt='g');"
      ]
    },
    {
      "cell_type": "code",
      "execution_count": 63,
      "metadata": {
        "id": "jU9bCIEu7GXP"
      },
      "outputs": [],
      "source": [
        "from tensorflow.keras.models import load_model\n",
        "model = load_model('/content/best_model1.h5')"
      ]
    },
    {
      "cell_type": "code",
      "execution_count": 64,
      "metadata": {
        "colab": {
          "base_uri": "https://localhost:8080/"
        },
        "id": "_LdpEqgn7Gdi",
        "outputId": "27a1aef0-3538-4a6e-e8c4-810e8a6dae74"
      },
      "outputs": [
        {
          "output_type": "stream",
          "name": "stdout",
          "text": [
            "184/184 [==============================] - 6s 30ms/step - loss: 0.0596 - accuracy: 0.9882\n"
          ]
        },
        {
          "output_type": "execute_result",
          "data": {
            "text/plain": [
              "[0.0596269853413105, 0.9882392883300781]"
            ]
          },
          "metadata": {},
          "execution_count": 64
        }
      ],
      "source": [
        "model.evaluate(X_test, y_test)"
      ]
    },
    {
      "cell_type": "code",
      "execution_count": 66,
      "metadata": {
        "id": "sglN1k547hnp"
      },
      "outputs": [],
      "source": [
        "y_pred  = model.predict(X_test).round()"
      ]
    },
    {
      "cell_type": "code",
      "execution_count": 67,
      "metadata": {
        "colab": {
          "base_uri": "https://localhost:8080/"
        },
        "id": "sNQiajNt76YO",
        "outputId": "03340b19-aa0e-4e49-ff07-1ed31e34b7dd"
      },
      "outputs": [
        {
          "output_type": "stream",
          "name": "stdout",
          "text": [
            "              precision    recall  f1-score   support\n",
            "\n",
            "       akiec       1.00      1.00      1.00       858\n",
            "         bcc       0.99      1.00      1.00       836\n",
            "         bkl       0.98      1.00      0.99       837\n",
            "          df       1.00      1.00      1.00       812\n",
            "          nv       1.00      0.92      0.95       809\n",
            "        vasc       1.00      1.00      1.00       838\n",
            "         mel       0.96      1.00      0.98       877\n",
            "\n",
            "   micro avg       0.99      0.99      0.99      5867\n",
            "   macro avg       0.99      0.99      0.99      5867\n",
            "weighted avg       0.99      0.99      0.99      5867\n",
            " samples avg       0.99      0.99      0.99      5867\n",
            "\n"
          ]
        },
        {
          "output_type": "stream",
          "name": "stderr",
          "text": [
            "/usr/local/lib/python3.8/dist-packages/sklearn/metrics/_classification.py:1318: UndefinedMetricWarning: Precision and F-score are ill-defined and being set to 0.0 in samples with no predicted labels. Use `zero_division` parameter to control this behavior.\n",
            "  _warn_prf(average, modifier, msg_start, len(result))\n"
          ]
        }
      ],
      "source": [
        "target_names = [f\"{classes[i]}\" for i in range(7)]\n",
        "print(classification_report(y_test , y_pred , target_names =target_names ))"
      ]
    },
    {
      "cell_type": "code",
      "execution_count": 68,
      "metadata": {
        "id": "SPrJwsNb78kg",
        "colab": {
          "base_uri": "https://localhost:8080/",
          "height": 265
        },
        "outputId": "54cfd2a2-dc1a-4700-fc7d-99ae88c1f16b"
      },
      "outputs": [
        {
          "output_type": "display_data",
          "data": {
            "text/plain": [
              "<Figure size 432x288 with 2 Axes>"
            ],
            "image/png": "[encoded data removed]"
          },
          "metadata": {}
        }
      ],
      "source": [
        "cm = confusion_matrix(y_test.argmax(axis=1), y_pred.argmax(axis=1))\n",
        "sns.heatmap(cm, annot=True, fmt='g');"
      ]
    }
  ],
  "metadata": {
    "colab": {
      "provenance": [],
      "authorship_tag": "ABX9TyM1uk4TZoR7zyOX2ryWyT69",
      "include_colab_link": true
    },
    "kernelspec": {
      "display_name": "Python 3",
      "name": "python3"
    },
    "language_info": {
      "name": "python"
    }
  },
  "nbformat": 4,
  "nbformat_minor": 0
}